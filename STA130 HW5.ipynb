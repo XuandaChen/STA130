{
 "cells": [
  {
   "cell_type": "markdown",
   "id": "bd0bc4b0",
   "metadata": {},
   "source": [
    "# 1\n",
    "1. The \"first pre-lecture video\" (above) describes hypothesis testing as addressing \"an idea that can be tested\", and the end of the video then discusses what our actual intended purpose in setting up a null hypothesis is. What is the key factor that makes the difference between ideas that can, and cannot be examined and tested statistically? What would you describe is the key \"criteria\" defining what a good null hypothesis is? And what is the difference between a null hypothesis and an alternative hypothesis in the context of hypothesis testing? Answer these questions with concise explanations in your own words."
   ]
  },
  {
   "cell_type": "markdown",
   "id": "6ecbd8e2",
   "metadata": {},
   "source": [
    "Key factors: If the idea can be measured with data, then it can be tested. If you can collect data and use it to check the idea, then it is testable.\n",
    "\n",
    "A good null hypothesis is simple, clear, and measurable. It represents normalcy or no change, and you should be able to test it with your data.\n",
    "\n",
    "Null Hypothesis (H₀): It says there is no effect or no difference \n",
    "Alternative Hypothesis (H₁): It says there is an effect or a difference \n",
    "https://chatgpt.com/share/670565d2-3cdc-8000-8df3-51060e2fbfd1"
   ]
  },
  {
   "cell_type": "markdown",
   "id": "8b86cdd3",
   "metadata": {},
   "source": [
    "# 2\n",
    "2. Towards the end of the \"first pre-lecture\" video (above) it is stated that, \"It is important to note that outcomes of tests refer to the population parameter, rather than the sample statistic! As such, the result that we get is for the population.\" In terms of the distinctions between the concepts of how would you describe what the sentence above means? Explain this concisely in your own words for a \"non-statsitical\" audience, defining the technical statistical terminology you use in your answer."
   ]
  },
  {
   "cell_type": "markdown",
   "id": "006833ba",
   "metadata": {},
   "source": [
    "In hypothesis testing, we want to understand what is happening in the entire population, not just the small portion of data we collected (the sample). The results we get should tell us about the population, not just the sample.\n",
    "\n",
    "xi These are the individual numbers we get in our sample.\n",
    "x This is the average of the numbers in the sample.\n",
    "μ: This is the true average of the entire population, which we don’t know\n",
    "μ0 This is the number we assume to be the population mean in our null hypothesis.\n",
    "\n",
    "We collect data from a small group (the sample) and use it to calculate a mean for the entire population. The null hypothesis assumes a certain mean, and we use the sample data to see if that hypothesis is correct."
   ]
  },
  {
   "cell_type": "markdown",
   "id": "57aa2486",
   "metadata": {},
   "source": [
    "# 3\n",
    "3. The second \"Pre-lecture\" video (above) explains that we \"imagine a world where the null hypothesis is true\" when calculating a p-value? Explain why this is in your own words in a way that makes the most sense to you."
   ]
  },
  {
   "cell_type": "markdown",
   "id": "a651ca3d",
   "metadata": {},
   "source": [
    "When we calculate a p-value, we are assuming that the null hypothesis is true to see how likely it is that we would have gotten the data we collected. If our data looks a little weird (low p-value), our null hypothesis is questionable. If our data looks normal (high p-value), then our null hypothesis is fine."
   ]
  },
  {
   "cell_type": "markdown",
   "id": "c32d8e6e",
   "metadata": {},
   "source": [
    "# 4\n",
    "4. The second \"Pre-lecture\" video (above) describes suggest that a smaller p-value makes the null hypothesis look more ridiculous. Explain why this is in your own words in a way that makes the most sense to you, clarifying the meaning of any technical statistical terminology you use in your answer."
   ]
  },
  {
   "cell_type": "markdown",
   "id": "5740b19f",
   "metadata": {},
   "source": [
    "The smaller the p-value, the less credible the null hypothesis looks, because it means that the data we collected would be unlikely to have occurred if the null hypothesis was true. In other words, a very small p-value suggests that the data are very strange or rare under the null hypothesis. This makes us think that the null hypothesis does not fit the data well and is likely wrong.\n",
    "https://docs.google.com/document/d/1tjvQ42nXZmb2htjxNmF5hf8y7pWF0yy7wLlNjK9dJnE/edit?tab=t.0"
   ]
  },
  {
   "cell_type": "markdown",
   "id": "b53bd8b3",
   "metadata": {},
   "source": [
    "# 5\n",
    "5. Güntürkün (2003) recorded how kissing couples tilt their heads. 80 out of 124 couples, or 64.5% tilted their heads to the right. Simulate a p-value using a \"50/50 coin-flipping\" model for the assumption of the null hypothesis that the population of humans don't have left or right head tilt tendencies when kissing, and use the table below to determine the level of evidence we have against."
   ]
  },
  {
   "cell_type": "markdown",
   "id": "d55d910e",
   "metadata": {},
   "source": [
    "The null hypothesis is that there is no preference for tilting the head to the left or right, so the proportion of couples tilting their heads to the right should be 50%. In the study, 80 of the 124 couples tilted their heads to the right. This means that 64.5% of couples tilted their heads to the right. We can calculate the p-value to see how likely it is that 64.5% or more of couples tilted their heads to the right, given that the true proportion is 50% (the null hypothesis)."
   ]
  },
  {
   "cell_type": "markdown",
   "id": "aff1a8c5",
   "metadata": {},
   "source": [
    "I got a p-value of about 0.00078 for this test. Interpret the evidence against the null hypothesis using the table provided: 0.001 ≥ p means there is very strong evidence against the null hypothesis. Therefore, based on this p-value, we have very strong evidence that the population does not have a 50/50 preference for tilting the head to the left or right when kissing, and can reject the null hypothesis."
   ]
  },
  {
   "cell_type": "markdown",
   "id": "a301305b",
   "metadata": {},
   "source": [
    "# 6\n",
    "6. Can a smaller p-value definitively prove that the null hypothesis is false? Is it possible to definitively prove that Fido (from the \"second pre-lecture video\") is innocent using a p-value? Is it possible to difinitively prove that Fido is guilty using a p-value? How low or high does a p-value have to be to definitely prove one or the other? Explain this concisely in your own words."
   ]
  },
  {
   "cell_type": "markdown",
   "id": "4f2720f3",
   "metadata": {},
   "source": [
    "A small p-value does not prove that the null hypothesis is false; it simply indicates that the data are less likely to occur if the null hypothesis is true.\n",
    "\n",
    "A high p-value does not prove that Fido is innocent, it just means that there is not enough evidence to prove his innocence.\n",
    "A low p-value does not prove that Fido is guilty, it just means that there is strong evidence to prove his innocence.\n",
    "No p-value definitively proves anything—it only shows the likelihood of the evidence, but never gives a definitive answer."
   ]
  },
  {
   "cell_type": "markdown",
   "id": "fd22aca2",
   "metadata": {},
   "source": [
    "# 7\n",
    "7. In the second half of the \"first pre-lecture video\" the concept of a \"one sided\" (or \"one tailed\") test is introduced in contrast to a \"two sided\" (or \"two tailed\") test. Work with a ChatBot to adjust the code from \"Demo II of the Week 5 TUT\" (which revisits the \"Vaccine Data Analysis Assignment\" from Week 04 HW \"Question 8\") in order to compute a p-value for a \"one sided\" (or \"one tailed\") hypothesis test rather than the \"two sided\" (or \"two tailed\") version it provides. Describe (perhaps with the help of your ChatBot) what changed in the code; how this changes the interpretation of the hypothesis test; and whether or not we should indeed expect the p-value to be smaller in the \"one tailed\" versus \"two tailed\" analysis."
   ]
  },
  {
   "cell_type": "markdown",
   "id": "1800ad7b",
   "metadata": {},
   "source": [
    "Two-tailed test: Looks for differences in two directions (larger or smaller).\n",
    "Example: You want to check if a vaccine has any effect (maybe better or worse).\n",
    "\n",
    "One-tailed test: Looks for differences in one direction (larger or smaller).\n",
    "Example: You only care if a vaccine reduces infections, not if it increases them.\n",
    "\n",
    "Code change: For a one-tailed test, only one tail of the distribution is used, so the p-value is generally smaller than for a two-tailed test, which considers both tails.\n",
    "https://docs.google.com/document/d/1LlBSUr6zoh0kZYpYdL925TXRTLFwkRYQ8G2-TGCscrI/edit?tab=t.0"
   ]
  },
  {
   "cell_type": "markdown",
   "id": "6eba54e4",
   "metadata": {},
   "source": [
    "# 8\n",
    "8. Complete the following assignment.\n",
    "Fisher's Tea Experiment"
   ]
  },
  {
   "cell_type": "markdown",
   "id": "41e9d2b0",
   "metadata": {},
   "source": [
    "Problem Introduction: \n",
    "The purpose of the experiment was to test whether students could correctly identify whether milk or tea was poured first. In the original experiment, Dr. Bristol claimed that she could taste the difference between a cup in which tea or milk was poured first. Fisher designed a hypothesis test to determine whether her ability was due to chance.\n",
    "We conducted a similar test on 80 students, of whom 49 correctly identified how the tea was poured."
   ]
  },
  {
   "cell_type": "markdown",
   "id": "de459dd4",
   "metadata": {},
   "source": [
    "Relationship between this experiment and the original with Fisher and Bristol：In Fisher's tea experiment, Dr. Bristol claimed that she could tell whether the milk or the tea was poured first. Fisher tested this by giving her 8 cups of tea (4 with the milk first and 4 with the tea first) to see if she really could tell the difference. In our experiment, we are testing 80 students to see if they can tell whether the milk or the tea was poured first. Of the 80 students, 49 guessed correctly."
   ]
  },
  {
   "cell_type": "markdown",
   "id": "390c3f9f",
   "metadata": {},
   "source": [
    "Null hypothesis (H₀): The students are just guessing and have a 50% chance of getting the order right.\n",
    "Alternative hypothesis (H₁): More students are able to correctly get the order right(probability > 50 %)."
   ]
  },
  {
   "cell_type": "code",
   "execution_count": 1,
   "id": "33c4df2e",
   "metadata": {},
   "outputs": [
    {
     "name": "stdout",
     "output_type": "stream",
     "text": [
      "P-value: 0.02833\n",
      "Reject the null hypothesis: There is evidence that students can tell the difference.\n"
     ]
    }
   ],
   "source": [
    "import numpy as np\n",
    "import scipy.stats as stats\n",
    "\n",
    "# Set the seed for reproducibility\n",
    "np.random.seed(42)\n",
    "\n",
    "# Number of correct guesses\n",
    "correct_guesses = 49\n",
    "\n",
    "# Total number of students\n",
    "total_students = 80\n",
    "\n",
    "# Run a binomial test using the new binomtest function\n",
    "result = stats.binomtest(correct_guesses, total_students, p=0.5, alternative='greater')\n",
    "\n",
    "# Output the result\n",
    "p_value = result.pvalue\n",
    "print(f\"P-value: {p_value:.5f}\")\n",
    "\n",
    "# Interpretation\n",
    "if p_value < 0.05:\n",
    "    print(\"Reject the null hypothesis: There is evidence that students can tell the difference.\")\n",
    "else:\n",
    "    print(\"Fail to reject the null hypothesis: There is no strong evidence that students can tell the difference.\")\n"
   ]
  },
  {
   "cell_type": "markdown",
   "id": "f4f2d04a",
   "metadata": {},
   "source": [
    "np.random.seed(42) ensures that any random numbers generated during the analysis are reproducible. It allows others to get the same results when running your code. \n",
    "\n",
    "stats.binom_test() runs a binomial test to check whether the number of correct guesses (49 out of 80) is significantly greater than what we would expect by chance (50%)."
   ]
  },
  {
   "cell_type": "markdown",
   "id": "e51eafed",
   "metadata": {},
   "source": [
    "Based on the p-value calculated from the binomial test, the p-value is less than 0.05 and we reject the null hypothesis. This indicates that the students were able to identify the order of pouring the wine better than random guessing."
   ]
  },
  {
   "cell_type": "markdown",
   "id": "ac97b273",
   "metadata": {},
   "source": [
    "# 9\n",
    "9. Have you reviewed the course wiki-textbook and interacted with a ChatBot (or, if that wasn't sufficient, real people in the course piazza discussion board or TA office hours) to help you understand all the material in the tutorial and lecture that you didn't quite follow when you first saw it?\n",
    "yes"
   ]
  }
 ],
 "metadata": {
  "kernelspec": {
   "display_name": "Python 3 (ipykernel)",
   "language": "python",
   "name": "python3"
  },
  "language_info": {
   "codemirror_mode": {
    "name": "ipython",
    "version": 3
   },
   "file_extension": ".py",
   "mimetype": "text/x-python",
   "name": "python",
   "nbconvert_exporter": "python",
   "pygments_lexer": "ipython3",
   "version": "3.11.6"
  }
 },
 "nbformat": 4,
 "nbformat_minor": 5
}
