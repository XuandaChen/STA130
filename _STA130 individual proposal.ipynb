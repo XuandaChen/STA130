{
 "cells": [
  {
   "cell_type": "markdown",
   "id": "adbfe149",
   "metadata": {},
   "source": [
    "# Proposal 1: Exploring Satisfaction with Time Spent with Others and Household Composition"
   ]
  },
  {
   "cell_type": "markdown",
   "id": "a71ff382",
   "metadata": {},
   "source": [
    "Variables to Explore:\n",
    "CONNECTION_time_with_others_satisfied: Are you satisfied with the amount of time you spend with others?\n",
    "GEO_housing_live_with_partner: Number of partners (e.g., husband, wife, or common-law partner) the respondent lives with.\n",
    "GEO_housing_live_with_children: Number of children (e.g., sons, daughters, or stepchildren) the respondent lives with.\n",
    "GEO_housing_live_with_grandkids: Number of grandchildren the respondent lives with.\n",
    "GEO_housing_live_with_parent: Number of parents the respondent lives with.\n",
    "GEO_housing_live_with_in_laws: Number of in-laws the respondent lives with.\n",
    "GEO_housing_live_with_siblings: Number of siblings the respondent lives with.\n",
    "GEO_housing_live_with_roommate: Number of roommates the respondent lives with.\n",
    "GEO_housing_live_with_other: Number of other individuals the respondent lives with.\n"
   ]
  },
  {
   "cell_type": "markdown",
   "id": "0f3cc461",
   "metadata": {},
   "source": [
    "Proposal Analysis:I would examine the relationship between satisfaction with time spent with others and various family configurations in the following way:\n",
    "Determining the average CONNECTION_time_with_others_satisfied score for individuals in each living scenario (spouse, children, housemates, etc.). \n",
    "Making a simple chart to compare satisfaction ratings across these various family settings to determine whether certain groupings are connected with higher contentment.\n"
   ]
  },
  {
   "cell_type": "markdown",
   "id": "33416ce3",
   "metadata": {},
   "source": [
    "Possible outcome: People who live with close family members, such as a partner or children, may be more satisfied with spending time with people than those who live alone, with distant relatives, or as roommates.\n"
   ]
  },
  {
   "cell_type": "markdown",
   "id": "5258e529",
   "metadata": {},
   "source": [
    "Why it's relevant: This investigation highlights how family interactions can affect societal contentment. These findings may serve to raise awareness about the significance of strong social ties and family support for well-being.\n"
   ]
  },
  {
   "cell_type": "markdown",
   "id": "e726dd33",
   "metadata": {},
   "source": [
    "# Proposal 2: Exploring Feelings of Disappointment and Frequency of Social Conversations\n"
   ]
  },
  {
   "cell_type": "markdown",
   "id": "e92461f5",
   "metadata": {},
   "source": [
    "Variables to Explore:\n",
    "WELLNESS_malach_pines_burnout_measure_disappointed: When you think about your life overall, how often do you feel disappointed with people?\n",
    "CONNECTION_activities_talked_day_p3m: Frequency of talking to someone about how their day was going over the past three months.\n",
    "CONNECTION_activities_talked_family_p3m: Frequency of talking to someone about their family over the past three months.\n",
    "CONNECTION_activities_talked_job_p3m: Frequency of talking to someone about their job over the past three months.\n",
    "CONNECTION_activities_talked_hobbies_p3m: Frequency of talking to someone about their hobbies or interests over the past three months.\n"
   ]
  },
  {
   "cell_type": "markdown",
   "id": "63e4e27e",
   "metadata": {},
   "source": [
    "Proposed Analysis:I will look into the relationship between how often people are disappointed in others and how frequently they engage in various forms of social exchanges.\n",
    "Calculating the average levels of disappointment (using WELLNESS_malach_pines_burnout_measure_disappointed) for people with varying amounts of participation in each conversation style.\n",
    "Creating bar charts or scatter plots to demonstrate the relationship between the frequency of these social interactions and feelings of dissatisfaction.\n"
   ]
  },
  {
   "cell_type": "markdown",
   "id": "4a3ec826",
   "metadata": {},
   "source": [
    "Possible Results:This investigation suggests that persons who communicate more about their life (daily routines, interests) are less disappointed with others, implying that these interactions may aid in the reduction of disappointment.\n"
   ]
  },
  {
   "cell_type": "markdown",
   "id": "2cca8a7c",
   "metadata": {},
   "source": [
    "Why It’s Relevant: This study could show how regular social interactions can improve mental health by lowering feelings of disappointment or exhaustion. The findings encourage open conversations with others, which aligns with the project's goal of emphasizing the benefits of social connectedness on well-being.\n"
   ]
  },
  {
   "cell_type": "markdown",
   "id": "647aabd2",
   "metadata": {},
   "source": [
    "# Proposal 3: Examining Feelings of Isolation and Social Interaction Frequency with Different Groups\n"
   ]
  },
  {
   "cell_type": "markdown",
   "id": "f7980db6",
   "metadata": {},
   "source": [
    "Variables to Explore:\n",
    "LONELY_ucla_loneliness_scale_isolated: Frequency of feeling isolated from others.\n",
    "CONNECTION_social_days_family_p7d_grouped: Number of days in the past week spent socializing with family for at least 5 minutes.\n",
    "CONNECTION_social_days_friends_p7d_grouped: Number of days in the past week spent socializing with friends for at least 5 minutes.\n",
    "CONNECTION_social_days_coworkers_and_classmates_p7d_grouped: Number of days in the past week spent socializing with coworkers or classmates for at least 5 minutes.\n",
    "CONNECTION_social_days_neighbours_p7d_grouped: Number of days in the past week spent socializing with neighbors for at least 5 minutes.\n"
   ]
  },
  {
   "cell_type": "markdown",
   "id": "67da0ecf",
   "metadata": {},
   "source": [
    "Proposed Analysis: The study will investigate how frequently people feel lonely and whether socializing with a certain group (family, friends, coworkers, or neighbors) has an effect on those feelings.\n",
    "Calculating the average feelings of isolation for various levels of social connection with each group type.\n",
    "Graphs illustrating the association between the frequency of social interactions and feelings of isolation could aid in determining whether spending more time with specific groups improves feelings of isolation.\n"
   ]
  },
  {
   "cell_type": "markdown",
   "id": "b8af5367",
   "metadata": {},
   "source": [
    "Possible Results: This data may indicate that those who engage often with family and friends feel less lonely, whereas less interaction with these groups may result in higher loneliness scores.\n"
   ]
  },
  {
   "cell_type": "markdown",
   "id": "7e7553bc",
   "metadata": {},
   "source": [
    "Why It’s Relevant: Identifying which social interactions (such as family and friends) are most successful in reducing loneliness. These findings may emphasize the significance of particular forms of social contacts in promoting well-being and reducing loneliness.\n"
   ]
  }
 ],
 "metadata": {
  "kernelspec": {
   "display_name": "Python 3 (ipykernel)",
   "language": "python",
   "name": "python3"
  },
  "language_info": {
   "codemirror_mode": {
    "name": "ipython",
    "version": 3
   },
   "file_extension": ".py",
   "mimetype": "text/x-python",
   "name": "python",
   "nbconvert_exporter": "python",
   "pygments_lexer": "ipython3",
   "version": "3.11.6"
  }
 },
 "nbformat": 4,
 "nbformat_minor": 5
}
