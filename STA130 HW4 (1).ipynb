{
 "cells": [
  {
   "cell_type": "markdown",
   "id": "abfca6ef",
   "metadata": {},
   "source": [
    "# 1\n",
    "1. The \"Pre-lecture\" video (above) mentioned the \"standard error of the mean\" as being the \"standard deviation\" of the distribution bootstrapped means. What is the difference between the \"standard error of the mean\" and the \"standard deviation\" of the original data? What distinct ideas do each of these capture? Explain this concisely in your own words.\n"
   ]
  },
  {
   "cell_type": "markdown",
   "id": "9e9f86c8",
   "metadata": {},
   "source": [
    "The standard deviation tells us how the data points are distributed in the dataset - it shows how different the individual values are from the mean.\n",
    "\n",
    "The standard error of the mean (SEM) is different. It tells us how different we would expect the mean (or average) to be between samples if we took many samples from the same population."
   ]
  },
  {
   "cell_type": "markdown",
   "id": "2dbd0f31",
   "metadata": {},
   "source": [
    "# 2\n",
    "2. The \"Pre-lecture\" video (above) suggested that the \"standard error of the mean\" could be used to create a confidence interval, but didn't describe exactly how to do this. How can we use the \"standard error of the mean\" to create a 95% confidence interval which \"covers 95% of the bootstrapped sample means\"? Explain this concisely in your own words."
   ]
  },
  {
   "cell_type": "markdown",
   "id": "00b0df38",
   "metadata": {},
   "source": [
    "Start with the sample mean. Then multiply the SEM by the critical value of the normal distribution. For a 95% confidence interval, this value is usually 1.96. Finally, add and subtract this product (SEM × 1.96) from the sample mean to get the lower and upper limits of the confidence interval.\n",
    "https://chatgpt.com/share/66feda50-b7f4-8000-9968-ffa0d91cbd1d"
   ]
  },
  {
   "cell_type": "markdown",
   "id": "99f28def",
   "metadata": {},
   "source": [
    "# 3\n",
    "3. Creating the \"sample mean plus and minus about 2 times the standard error\" confidence interval addressed in the previous problem should indeed cover approximately 95% of the bootstrapped sample means. Alternatively, how do we create a 95% bootstrapped confidence interval using the bootstrapped means (without using their standard deviation to estimate the standard error of the mean)? Explain this concisely in your own words."
   ]
  },
  {
   "cell_type": "markdown",
   "id": "87dca774",
   "metadata": {},
   "source": [
    "Generate multiple bootstrap sample means by repeatedly resampling the original data with replacement.\n",
    "Sort the bootstrap means in ascending order.\n",
    "To find the 95% confidence interval, identify the 2.5th percentile as the lower limit of the sorted bootstrap means and the 97.5th percentile as the upper limit."
   ]
  },
  {
   "cell_type": "markdown",
   "id": "0b00a91c",
   "metadata": {},
   "source": [
    "# 4\n",
    "4. The \"Pre-lecture\" video (above) mentioned that bootstrap confidence intervals could apply to other statistics of the sample, such as the \"median\". Work with a ChatBot to create code to produce a 95% bootstrap confidence interval for a population mean based on a sample that you have and comment the code to demonstrate how the code can be changed to produce a 95% bootstrap confidence interval for different population parameter (other than the population mean, such as the population median)."
   ]
  },
  {
   "cell_type": "code",
   "execution_count": 1,
   "id": "4cac1925",
   "metadata": {},
   "outputs": [
    {
     "name": "stdout",
     "output_type": "stream",
     "text": [
      "95% bootstrap confidence interval for the mean: (37.0, 74.0)\n",
      "95% bootstrap confidence interval for the median: (25.0, 80.12499999999989)\n"
     ]
    }
   ],
   "source": [
    "import numpy as np\n",
    "\n",
    "# Sample data\n",
    "data = [10, 20, 30, 40, 50, 60, 70, 80, 90, 100]\n",
    "\n",
    "# Number of bootstrap samples\n",
    "n_bootstrap = 1000\n",
    "\n",
    "# Function to calculate bootstrap confidence interval for a statistic\n",
    "def bootstrap_ci(data, stat_function, n_bootstrap=1000, ci_percent=95):\n",
    "    bootstrap_samples = []\n",
    "    \n",
    "    # Generate bootstrap samples\n",
    "    for _ in range(n_bootstrap):\n",
    "        # Resample the data with replacement\n",
    "        bootstrap_sample = np.random.choice(data, size=len(data), replace=True)\n",
    "        # Apply the statistic function (mean, median, etc.)\n",
    "        bootstrap_samples.append(stat_function(bootstrap_sample))\n",
    "    \n",
    "    # Sort bootstrap samples\n",
    "    sorted_bootstrap = np.sort(bootstrap_samples)\n",
    "    \n",
    "    # Calculate the confidence interval\n",
    "    lower_bound = np.percentile(sorted_bootstrap, (100 - ci_percent) / 2)\n",
    "    upper_bound = np.percentile(sorted_bootstrap, 100 - (100 - ci_percent) / 2)\n",
    "    \n",
    "    return lower_bound, upper_bound\n",
    "\n",
    "# Example: 95% confidence interval for the population mean\n",
    "mean_ci = bootstrap_ci(data, np.mean)\n",
    "print(f\"95% bootstrap confidence interval for the mean: {mean_ci}\")\n",
    "\n",
    "# Example: 95% confidence interval for the population median\n",
    "median_ci = bootstrap_ci(data, np.median)\n",
    "print(f\"95% bootstrap confidence interval for the median: {median_ci}\")\n"
   ]
  },
  {
   "cell_type": "markdown",
   "id": "c62b2533",
   "metadata": {},
   "source": [
    "We have some sample data (data = [10, 20, 30, ...]).\n",
    "We generate 1000 bootstrap samples by resampling the original data with replacement.\n",
    "We define a function bootstrap_ci that computes 95% confidence intervals for any statistic of interest.\n",
    "We demonstrate how to compute confidence intervals for the population mean and population median by calling bootstrap_ci with np.mean and np.median as the statistic function.\n",
    "https://chatgpt.com/share/66feda50-b7f4-8000-9968-ffa0d91cbd1d"
   ]
  },
  {
   "cell_type": "markdown",
   "id": "ff7be815",
   "metadata": {},
   "source": [
    "# 5\n",
    "5. The previous question addresses making a confidence interval for a population parameter based on a sample statistic. Why do we need to distinguish between the role of the popualation parameter and the sample sample statistic when it comes to confidence intervals? Explain this concisely in your own words."
   ]
  },
  {
   "cell_type": "markdown",
   "id": "8ba43f25",
   "metadata": {},
   "source": [
    "We need to separate population parameters from sample statistics because they represent different things. A population parameter is a true value that we want to know (such as the mean for each person in the population), but it is usually unknown. A sample statistic is a value that we calculate from sample data and use to estimate a population parameter.\n"
   ]
  },
  {
   "cell_type": "markdown",
   "id": "f3d2fb84",
   "metadata": {},
   "source": [
    "https://docs.google.com/document/d/1quwPJtZ0WOk2JF8sgBw_ph3wYJ4HBEzvgCS6_hUPF7g/edit"
   ]
  },
  {
   "cell_type": "markdown",
   "id": "d0434045",
   "metadata": {},
   "source": [
    "# 6\n",
    "6. Provide written answers explaining the answers to the following questions in an informal manner of a conversation with a friend with little experience with statistics.\n",
    "What is the process of bootstrapping?\n",
    "\n",
    "What is the main purpose of bootstrapping?\n",
    "\n",
    "If you had a (hypothesized) guess about what the average of a population was, and you had a sample of size n from that population, how could you use bootstrapping to assess whether or not your (hypothesized) guess might be plausible?"
   ]
  },
  {
   "cell_type": "markdown",
   "id": "411e0296",
   "metadata": {},
   "source": [
    "Bootstrapping is like taking a small sample of your data and repeatedly using it to create lots of new \"fake\" samples. You keep picking data points at random from your original sample (even allowing for duplicates), and each time you calculate the mean, etc. By doing this many times, you can get a sense of what the true population looks like without needing more data."
   ]
  },
  {
   "cell_type": "markdown",
   "id": "913cdbf1",
   "metadata": {},
   "source": [
    "The main purpose of bootstrapping is to determine the reliability of your sample when trying to estimate some data about a population, such as a mean. It helps you create confidence intervals based on the data you have to show a range of possible values for the true population statistic."
   ]
  },
  {
   "cell_type": "markdown",
   "id": "fce9e4de",
   "metadata": {},
   "source": [
    "Take the sample and create a lot of new samples by randomly picking points from it .For each new sample, calculate the mean.After doing this many times, you will have a range of different means.\n",
    "Check if your guess is within the range (for example, within a 95% confidence interval). If it is, your guess is probably reasonable. "
   ]
  },
  {
   "cell_type": "markdown",
   "id": "e9ef829b",
   "metadata": {},
   "source": [
    "# 7\n",
    "7. The \"Pre-lecture\" video (above) introduced hypothesis testing by saying that \"the confidence interval covers zero, so we cannot reject the hypothesis that the drug is [on average] not doing anything\". This conclusion could be referred to as \"failing to reject the null hypothesis\", where the term \"null\" refers to the concept of \"no effect [on average]\". Why does a confidence interval overlapping zero \"fail to reject the null hypothesis\" when the observed sample mean statistic itself is not zero? Alternatively, what would lead to the opposite conclusion in this context; namely, instead choosing \"to reject the null hypothesis\"? Explain the answers to these questions concisely in your own words."
   ]
  },
  {
   "cell_type": "markdown",
   "id": "25571d81",
   "metadata": {},
   "source": [
    "A confidence interval that overlaps zero means that the range of possible values ​​for the true effect includes zero, suggesting that there may be no effect at all. If the confidence interval did not include zero, it would mean that the true effect is likely different from zero, leading us to \"reject the null hypothesis.\" In this case, we would have stronger evidence that the drug does have some effect on average."
   ]
  },
  {
   "cell_type": "markdown",
   "id": "1f9e7932",
   "metadata": {},
   "source": [
    "# 8\n",
    "8. Complete the following assignment."
   ]
  },
  {
   "cell_type": "code",
   "execution_count": 1,
   "id": "d5838c30",
   "metadata": {},
   "outputs": [
    {
     "name": "stdout",
     "output_type": "stream",
     "text": [
      "   PatientID  Age Gender  InitialHealthScore  FinalHealthScore\n",
      "0          1   45      M                  84                86\n",
      "1          2   34      F                  78                86\n",
      "2          3   29      M                  83                80\n",
      "3          4   52      F                  81                86\n",
      "4          5   37      M                  81                84\n"
     ]
    },
    {
     "data": {
      "image/png": "[encoded data removed]",
      "text/plain": [
       "<Figure size 1000x600 with 1 Axes>"
      ]
     },
     "metadata": {},
     "output_type": "display_data"
    }
   ],
   "source": [
    "import pandas as pd\n",
    "import numpy as np\n",
    "import matplotlib.pyplot as plt\n",
    "\n",
    "# Set seed for reproducibility\n",
    "np.random.seed(42)\n",
    "\n",
    "# Reading the CSV data\n",
    "data = pd.read_csv('/home/jovyan/vaccine_data.csv')\n",
    "\n",
    "# Display the first few rows of the data\n",
    "print(data.head())\n",
    "\n",
    "plt.figure(figsize=(10, 6))\n",
    "plt.scatter(data['InitialHealthScore'], data['FinalHealthScore'], color='blue', label='Initial vs Final Health Score')\n",
    "plt.plot([70, 90], [70, 90], color='red', linestyle='--', label='No Improvement Line')\n",
    "plt.xlabel('Initial Health Score')\n",
    "plt.ylabel('Final Health Score')\n",
    "plt.title('Initial vs Final Health Score After Vaccine')\n",
    "plt.legend()\n",
    "plt.show()"
   ]
  },
  {
   "cell_type": "markdown",
   "id": "7267dd8f",
   "metadata": {},
   "source": [
    "https://docs.google.com/document/d/1nxHZ6mbxU8YopF9F5u1zgMSZEcs8ui_508oSmKRG9bw/edit"
   ]
  },
  {
   "cell_type": "markdown",
   "id": "6e1dd67e",
   "metadata": {},
   "source": [
    "# 9\n",
    "9. Have you reviewed the course wiki-textbook and interacted with a ChatBot (or, if that wasn't sufficient, real people in the course piazza discussion board or TA office hours) to help you understand all the material in the tutorial and lecture that you didn't quite follow when you first saw it?"
   ]
  },
  {
   "cell_type": "markdown",
   "id": "2e99f4c5",
   "metadata": {},
   "source": [
    "yes"
   ]
  }
 ],
 "metadata": {
  "kernelspec": {
   "display_name": "Python 3 (ipykernel)",
   "language": "python",
   "name": "python3"
  },
  "language_info": {
   "codemirror_mode": {
    "name": "ipython",
    "version": 3
   },
   "file_extension": ".py",
   "mimetype": "text/x-python",
   "name": "python",
   "nbconvert_exporter": "python",
   "pygments_lexer": "ipython3",
   "version": "3.11.6"
  }
 },
 "nbformat": 4,
 "nbformat_minor": 5
}
