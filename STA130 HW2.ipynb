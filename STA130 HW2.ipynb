{
 "cells": [
  {
   "cell_type": "markdown",
   "id": "f8a00d65",
   "metadata": {},
   "source": [
    "# 1\n",
    "1. Begin (or restart) part \"3(a)\" of the TUT Demo and interact with a ChatBot to make sure you understand how each part the Monte Hall problem code above works"
   ]
  },
  {
   "cell_type": "markdown",
   "id": "48388677",
   "metadata": {},
   "source": [
    "import numpy as np: This imports the NumPy library, which is used for random number generation.\n",
    "all_door_options = (1,2,3): a tuple representing three doors\n",
    "my_door_choice = 1: You choose door 1 first.\n",
    "i_won = 0: This variable records the number of times you won by changing doors.\n",
    "reps = 100000: This is the number of simulations the code will run.\n",
    "\n",
    "for i in range(reps): Loop through a number of reps to simulate 100,000 rounds \n",
    "Secret_wining_door = np.random.choice(all_door_options): Randomly select the door with the car (the winning door).\n",
    "all_door_options_list = list(all_door_options): Convert the tuple all_door_options to a list to modify it.\n",
    "all_door_options_list.remove(secret_wining_door): Removes the secret winning door from the list to simulate Monty's inability to display the winning door as a goat door.\n",
    "\n",
    "try-except block: This block attempts to remove my_door_choice from the list. If the player's door is the same as the winning door, it has already been deleted, so it will skip the remove operation using the except clause.\n",
    "\n",
    "goat_door_reveal = np.random.choice(all_door_options_list): Randomly selects a door to display, which is one of the remaining goat doors.\n",
    "all_door_options_list.remove(goat_door_reveal): Removes the displayed goat door from the list, leaving the remaining door, either the winning door or another goat door.\n",
    "\n",
    "The player then switches to the remaining door (my_door_choice = all_door_options_list[0]).\n",
    "if my_door_choice == Secret_wining_door: After switching doors, if the player's new choice matches the winning door, they win.\n",
    "i_won += 1: If the player wins, increment the i_won counter.\n",
    "\n",
    "After all iterations, the win rate is calculated as i_won divided by the number of reps: i_won/rep. "
   ]
  },
  {
   "cell_type": "markdown",
   "id": "a0059bba",
   "metadata": {},
   "source": [
    "# 2\n",
    "Extend your ChatBot sessions to now address part \"3(b)\" of the TUT Demo and interact with your ChatBot to see if it can suggest a simpler, more streamlined way to code up this for loop simulation so the process is more clear and easier to understand; then, describe any preferences you have in terms of readibility or explainability between the original code and the code improvements suggested by the ChatBot"
   ]
  },
  {
   "cell_type": "code",
   "execution_count": 18,
   "id": "f4b5f700",
   "metadata": {},
   "outputs": [
    {
     "name": "stdout",
     "output_type": "stream",
     "text": [
      "Win percentage by switching: 66.60%\n"
     ]
    }
   ],
   "source": [
    "import numpy as np\n",
    "\n",
    "boxes = (1, 2, 3)  # There are 3 boxes, one has the prize\n",
    "my_box_choice = 1  # Always start by choosing box 1\n",
    "wins_by_switching = 0  # Count how many times we win by switching\n",
    "simulations = 100000  # Run the game 100,000 times\n",
    "\n",
    "for _ in range(simulations):\n",
    "    # Randomly assign the prize to one of the 3 boxes\n",
    "    prize_box = np.random.choice(boxes)\n",
    "\n",
    "    # Monty reveals one of the empty boxes (not the one you picked and not the prize box)\n",
    "    empty_boxes = [box for box in boxes if box != my_box_choice and box != prize_box]\n",
    "    monty_reveals = np.random.choice(empty_boxes)\n",
    "\n",
    "    # After Monty reveals an empty box, you switch to the remaining unopened box\n",
    "    switched_box = [box for box in boxes if box != my_box_choice and box != monty_reveals][0]\n",
    "\n",
    "    # Check if the switched box is the prize box\n",
    "    if switched_box == prize_box:\n",
    "        wins_by_switching += 1\n",
    "\n",
    "# Calculate and print the percentage of times you won by switching boxes\n",
    "win_percentage = wins_by_switching / simulations\n",
    "print(f\"Win percentage by switching: {win_percentage * 100:.2f}%\")"
   ]
  },
  {
   "cell_type": "markdown",
   "id": "929a54e0",
   "metadata": {},
   "source": [
    "Original code advantage:\n",
    "The original code is detailed, breaking down each part of the Monty Hall simulation step by step.\n",
    "Each action, such as moving the door, opening the goat door, opening and closing the door, is clearly divided into individual steps.\n",
    "weakness:\n",
    "There are multiple variables and steps that make the logic more complex than necessary (e.g. manually removing the door from the list, using try-except to handle the case where the door has been removed).\n",
    "We are required to know clearly what we are doing at every step\n",
    "\n",
    "Improve code Advantages:\n",
    "No need to manually remove doors or handle exceptions\n",
    "Clarity: The improved code requires fewer steps and variables to track, making the logic simpler. For example, the code directly defines which doors are \"goat\" doors and then switches to the remaining unopened doors.\n",
    "Less code, same functionality:\n",
    "weakness:\n",
    "Although list comprehensions are very efficient, they are very difficult to understand for beginners.\n",
    "\n",
    "Preference: The improved version is preferable in terms of readability, list comprehension conciseness, and less clutter."
   ]
  },
  {
   "cell_type": "markdown",
   "id": "9d6670a8",
   "metadata": {},
   "source": [
    "# 3\n",
    "3.Submit your preferred version of the Monty Hall problem that is verified to be running and working with a final printed output of the code; then, add code comments explaining the purpose of each line of the code\n"
   ]
  },
  {
   "cell_type": "code",
   "execution_count": 19,
   "id": "91eacd9c",
   "metadata": {},
   "outputs": [
    {
     "name": "stdout",
     "output_type": "stream",
     "text": [
      "Win percentage by switching: 66.86%\n"
     ]
    }
   ],
   "source": [
    "import numpy as np\n",
    "\n",
    "# There are 3 boxes, one has the prize\n",
    "boxes = (1, 2, 3)\n",
    "\n",
    "# Always start by choosing box 1\n",
    "my_box_choice = 1\n",
    "\n",
    "# Count how many times we win by switching\n",
    "wins_by_switching = 0\n",
    "\n",
    "# Run the game 100,000 times\n",
    "simulations = 100000\n",
    "\n",
    "# For loop to simulate the Monty Hall game\n",
    "for _ in range(simulations):\n",
    "    # Randomly assign the prize to one of the 3 boxes\n",
    "    prize_box = np.random.choice(boxes)\n",
    "\n",
    "    # Monty reveals one of the empty boxes (not the one you picked and not the prize box)\n",
    "    empty_boxes = [box for box in boxes if box != my_box_choice and box != prize_box]\n",
    "    monty_reveals = np.random.choice(empty_boxes)\n",
    "\n",
    "    # After Monty reveals an empty box, you switch to the remaining unopened box\n",
    "    switched_box = [box for box in boxes if box != my_box_choice and box != monty_reveals][0]\n",
    "\n",
    "    # Check if the switched box is the prize box\n",
    "    if switched_box == prize_box:\n",
    "        wins_by_switching += 1\n",
    "\n",
    "# Calculate and print the percentage of times you won by switching boxes\n",
    "win_percentage = wins_by_switching / simulations\n",
    "print(f\"Win percentage by switching: {win_percentage * 100:.2f}%\")"
   ]
  },
  {
   "cell_type": "markdown",
   "id": "7a84cf0f",
   "metadata": {},
   "source": [
    "Box Setup: We assume three boxes (or doors) and start by selecting box 1.\n",
    "For Loop: We simulated the Monty Hall game 100,000 times to get reliable results.\n",
    "Prize distribution: In each iteration, a prize box is randomly selected.\n",
    "Monty shows a goat: Monty shows a losing box that is not your choice and is not a prize box.\n",
    "Switching strategy: The player switches to the remaining unopened boxes.\n",
    "Win check: If the switched box has a prize, the wins_by_switching count is incremented.\n",
    "Final output: After all simulations are completed, the winning percentage is calculated and printed.\n",
    "\n",
    "https://chatgpt.com/share/66e9c843-b3d8-8000-91b0-4beeafd099ac"
   ]
  },
  {
   "cell_type": "markdown",
   "id": "7d5488b9",
   "metadata": {},
   "source": [
    "# 4\n",
    "4. Watch the embedded video tutorial on Markov chains in the next Jupyter cell below to understand their application and relevance for ChatBots; then, after watching the video, start a new ChatBot session by prompting that you have code that creates a \"Markovian ChatBot\"; show it the first version of the \"Markovian ChatBot code\" below; and interact with the ChatBot session to make sure you understand how the original first version of the \"Markovian ChatBot code\" works"
   ]
  },
  {
   "cell_type": "code",
   "execution_count": 20,
   "id": "dc95492c",
   "metadata": {},
   "outputs": [
    {
     "name": "stdout",
     "output_type": "stream",
     "text": [
      "sun is sleeping.\n"
     ]
    }
   ],
   "source": [
    "import random\n",
    "\n",
    "# Create an empty dictionary \n",
    "model = {}\n",
    "\n",
    "# Teach the chatbot with some text\n",
    "def train(text):\n",
    "    words = text.split()  # Split the text\n",
    "    \n",
    "    # Go through each word\n",
    "    for i in range(len(words) - 1):\n",
    "        word = words[i]\n",
    "        next_word = words[i + 1]\n",
    "        \n",
    "        if word not in model:\n",
    "            model[word] = []  # If the word isn't in the model, add it\n",
    "        model[word].append(next_word)  # Add the next word that follows\n",
    "\n",
    "# Create a random sentence\n",
    "def generate_sentence(length=5):\n",
    "    word = random.choice(list(model.keys()))  # Start with a random word\n",
    "    sentence = [word]  # Begin the sentence with this word\n",
    "    \n",
    "    for _ in range(length - 1):\n",
    "        if word in model:\n",
    "            next_word = random.choice(model[word])  # Pick a next word\n",
    "            sentence.append(next_word)  # Add it to the sentence\n",
    "            word = next_word  # Move to the next word\n",
    "        else:\n",
    "            break\n",
    "    \n",
    "    return ' '.join(sentence)  # Return the sentence as a string\n",
    "\n",
    "# Train the chatbot with simple sentences\n",
    "train(\"The sun is shining.\")\n",
    "train(\"The cat is sleeping.\")\n",
    "\n",
    "#Make the chatbot say a random sentence\n",
    "print(generate_sentence())"
   ]
  },
  {
   "cell_type": "markdown",
   "id": "100fc572",
   "metadata": {},
   "source": [
    "I trained the chatbot using a series of simple sentences surrounding cats and dogs. For example:The sun is shining.\n",
    "The cat is sleeping.\n",
    "\n",
    "Create an empty model: Use a dictionary to store word pairs. \n",
    "Train the chatbot: The train() function trains the chatbot by splitting sentences into word pairs and storing them in the model. \n",
    "Generate sentences: The generate_sentence() function starts with a random word and then builds the sentence by randomly selecting the next word from the model."
   ]
  },
  {
   "cell_type": "markdown",
   "id": "d13e703b",
   "metadata": {},
   "source": [
    "# 5\n",
    "5. Recreate (or resume) the previous ChatBot session from question \"4\" above, and now prompt the ChatBot session that you have a couple extensions of the code to show it, and then show it each of the extentions of the \"Markovian ChatBot code\" below in turn"
   ]
  },
  {
   "cell_type": "code",
   "execution_count": null,
   "id": "8649e047",
   "metadata": {},
   "outputs": [
    {
     "name": "stdout",
     "output_type": "stream",
     "text": [
      "Welcome to the Markov Chain Chatbot!\n",
      "You can train the chatbot by typing sentences.\n",
      "Type 'generate' to let the chatbot generate a sentence.\n",
      "Type 'exit' to end the conversation.\n",
      "\n"
     ]
    }
   ],
   "source": [
    "import random\n",
    "\n",
    "# Step 1: Create a dictionary to store two-word pairs\n",
    "model = {}\n",
    "\n",
    "# Step 2: Train the chatbot with some text\n",
    "def train(text):\n",
    "    words = text.split()  # Split the text into individual words\n",
    "    \n",
    "    # Create two-word pairs\n",
    "    for i in range(len(words) - 2):\n",
    "        pair = (words[i], words[i + 1])\n",
    "        next_word = words[i + 2]\n",
    "        \n",
    "        if pair not in model:\n",
    "            model[pair] = []\n",
    "        model[pair].append(next_word)\n",
    "\n",
    "# Step 3: Generate a random sentence with two-word context\n",
    "def generate_sentence(length=10):\n",
    "    if not model:\n",
    "        return \"The chatbot has not been trained yet. Please provide training data.\"\n",
    "\n",
    "    # Start with a random word pair\n",
    "    current_pair = random.choice(list(model.keys()))\n",
    "    sentence = [current_pair[0], current_pair[1]]  # Start the sentence with the word pair\n",
    "    \n",
    "    # Generate the rest of the sentence\n",
    "    for _ in range(length - 2):\n",
    "        if current_pair in model:\n",
    "            next_word = random.choice(model[current_pair])\n",
    "            sentence.append(next_word)\n",
    "            current_pair = (current_pair[1], next_word)  # Shift to the next word pair\n",
    "            \n",
    "            if next_word.endswith('.'):  # Stop the sentence if it ends with a period\n",
    "                break\n",
    "        else:\n",
    "            break\n",
    "    \n",
    "    return ' '.join(sentence)\n",
    "\n",
    "# Step 4: Interactive Chat with Training\n",
    "def interactive_chat():\n",
    "    print(\"Welcome to the Markov Chain Chatbot!\")\n",
    "    print(\"You can train the chatbot by typing sentences.\")\n",
    "    print(\"Type 'generate' to let the chatbot generate a sentence.\")\n",
    "    print(\"Type 'exit' to end the conversation.\\n\")\n",
    "    \n",
    "    while True:\n",
    "        user_input = input(\"You: \").strip()\n",
    "        \n",
    "        if user_input.lower() == 'exit':\n",
    "            print(\"Goodbye!\")\n",
    "            break\n",
    "        elif user_input.lower() == 'generate':\n",
    "            # Generate a random sentence\n",
    "            print(f\"ChatBot: {generate_sentence()}\\n\")\n",
    "        else:\n",
    "            # Train the chatbot with user input\n",
    "            train(user_input)\n",
    "            print(\"ChatBot: Got it! I learned something new.\\n\")\n",
    "\n",
    "# Step 5: Start the chatbot interaction\n",
    "interactive_chat()\n"
   ]
  },
  {
   "cell_type": "markdown",
   "id": "a018099b",
   "metadata": {},
   "source": [
    "5.1 Without just supplying your ChatBot session with the answers, see if the ChatBot can figure out what the extensions in the code do; namely, making character specific Markov chains, and using bigrams (rather than just the previous word alone) dependency... prompt your ChatBot session with some hints if it's not seeming to \"get it\""
   ]
  },
  {
   "cell_type": "markdown",
   "id": "a49177f2",
   "metadata": {},
   "source": [
    "Character-Specific Markov Chains: Although this isn't explicitly coded yet, the idea is that you can have separate models for different characters. This means each character would have its own Markov chain model, and when generating sentences, the model used would depend on the current character speaking.\n",
    "\n",
    "Bigrams (Two-Word Dependency): The second extension in the code uses bigrams rather than relying on just a single-word dependency. In the second code block, you create two-word pairs (bigrams) to determine what the next word should be based on two previous words, rather than just one."
   ]
  },
  {
   "cell_type": "code",
   "execution_count": null,
   "id": "8228c6ab",
   "metadata": {},
   "outputs": [],
   "source": []
  },
  {
   "cell_type": "markdown",
   "id": "60205846",
   "metadata": {},
   "source": [
    "5.2 Interact with your ChatBot session to have it explain details of the code wherever you need help understanding what the code is doing and how it works"
   ]
  },
  {
   "cell_type": "markdown",
   "id": "dfb2d53c",
   "metadata": {},
   "source": [
    "The model is a dictionary that stores which words come after which other words.\n"
   ]
  },
  {
   "cell_type": "markdown",
   "id": "d6ad387e",
   "metadata": {},
   "source": [
    "text.split() converts a sentence into a list of words.\n",
    "The code loops through each word in the sentence except the last word (since it has no next word).\n",
    "For each word, the function looks at the next word and stores it in the model dictionary."
   ]
  },
  {
   "cell_type": "markdown",
   "id": "22f1e91b",
   "metadata": {},
   "source": [
    "generate_sentence:The function first selects a random word from the keys in the model (these are the words that the chatbot has learned).\n",
    "It initializes a list called sentence with this word.\n",
    "The loop runs for iterations of length 1 to generate the remaining words of the sentence:\n"
   ]
  },
  {
   "cell_type": "markdown",
   "id": "24fb1b7b",
   "metadata": {},
   "source": [
    "Finally, it combines the words into a sentence and returns it."
   ]
  },
  {
   "cell_type": "code",
   "execution_count": null,
   "id": "18e1ba29",
   "metadata": {},
   "outputs": [],
   "source": [
    "def train(text):\n",
    "    words = text.split()  # Split the text into individual words\n",
    "    \n",
    "    for i in range(len(words) - 2):\n",
    "        pair = (words[i], words[i + 1])  # Create a pair of two consecutive words\n",
    "        next_word = words[i + 2]  # The word that comes after the pair\n",
    "        \n",
    "        if pair not in model:\n",
    "            model[pair] = []  # Add the pair to the model if it isn't already there\n",
    "        model[pair].append(next_word)  # Add the next word to the list of possible next words\n",
    "\n",
    "def generate_sentence(length=10):\n",
    "    if not model:\n",
    "        return \"The chatbot has not been trained yet. Please provide training data.\"\n",
    "\n",
    "    current_pair = random.choice(list(model.keys()))  # Start with a random two-word pair\n",
    "    sentence = [current_pair[0], current_pair[1]]  # Start the sentence with this pair\n",
    "    \n",
    "    for _ in range(length - 2):\n",
    "        if current_pair in model:\n",
    "            next_word = random.choice(model[current_pair])  # Pick a random next word\n",
    "            sentence.append(next_word)  # Add the next word to the sentence\n",
    "            current_pair = (current_pair[1], next_word)  # Shift the pair to the next two words\n",
    "        else:\n",
    "            break\n",
    "    \n",
    "    return ' '.join(sentence)  # Join the words into a sentence"
   ]
  },
  {
   "cell_type": "markdown",
   "id": "40010a39",
   "metadata": {},
   "source": [
    "https://chatgpt.com/share/66ece303-e558-8000-bc7a-cce2c858070c"
   ]
  },
  {
   "cell_type": "code",
   "execution_count": null,
   "id": "fd52b369",
   "metadata": {},
   "outputs": [],
   "source": []
  },
  {
   "cell_type": "markdown",
   "id": "4e4e5432",
   "metadata": {},
   "source": [
    "5.3 Start yet another new ChatBot session and first show the ChatBot the original \"Markovian ChatBot code\" below, and then tell ChatBot that you have an extension but this time just directly provide it the more complicated final extension without ever providing the intermediate extension code to the ChatBot session and see if it's still able to understand everything extension does; namely, making character specific Markov chains, and using bigrams (rather than just the previous word alone) dependency... prompt the ChatBot with some hints if it's not seeming to understand what you're getting at..."
   ]
  },
  {
   "cell_type": "markdown",
   "id": "ffac2289",
   "metadata": {},
   "source": [
    "The model uses two consecutive words (bigram) to predict the next word. This gives the chatbot more context for making predictions and results in more natural sentences.\n",
    "By considering two words at a time, the chatbot better captures word patterns and syntax, making the sentences feel more grammatically consistent.\n",
    "\n",
    "Example: If the sentence is The sun is shining., the bigrams will be:\n",
    "(\"The\", \"sun\") → followed by is\n",
    "(\"sun\", \"is\") → followed by shining."
   ]
  },
  {
   "cell_type": "markdown",
   "id": "536dc43b",
   "metadata": {},
   "source": [
    "The training process now splits the text into two-word pairs (bigrams). For each bigram, the model stores the word that comes next.\n",
    "Example:\n",
    "For the same sentence \"The sun is shining\", the new model would store:\n",
    "(\"The\", \"sun\") → [\"is\"]\n",
    "(\"sun\", \"is\") → [\"shining.\"]"
   ]
  },
  {
   "cell_type": "markdown",
   "id": "1810b9eb",
   "metadata": {},
   "source": [
    "The new version uses two words (bigram) as context for each prediction, which leads to more fluent and coherent sentence generation. The trade-off is slightly increased complexity, but the output is generally of higher quality."
   ]
  },
  {
   "cell_type": "code",
   "execution_count": null,
   "id": "48bf8a71",
   "metadata": {},
   "outputs": [],
   "source": []
  },
  {
   "cell_type": "markdown",
   "id": "39039a87",
   "metadata": {},
   "source": [
    "# 6\n",
    "6. Report on your experience interacting with ChatBots to understand the Monte Hall problem and \"Markovian ChatBot\" code"
   ]
  },
  {
   "cell_type": "markdown",
   "id": "7954045c",
   "metadata": {},
   "source": [
    "6.1 The chatbot quickly explained Monty Hall's problem. It describes the game and how changing gates can increase your chances of winning, which makes the problem easier to understand.ChatBot provides a quick overview of Markov chains and how they can be used to generate text based on previous words or states."
   ]
  },
  {
   "cell_type": "markdown",
   "id": "7c4af1d1",
   "metadata": {},
   "source": [
    "6.2 Interacting with the ChatBot is mostly helpful, but sometimes a little frustrating when it doesn't fully understand a question or do not provide enough information at once."
   ]
  },
  {
   "cell_type": "markdown",
   "id": "1e25bb8a",
   "metadata": {},
   "source": [
    "6.3 In my experience, chatbots have been a huge help in learning to code. When I encounter a coding error or need help with a concept, ChatBot can quickly explain what went wrong and provide a solution.\n",
    "However, sometimes the ChatBot's answers are unhelpful, so I need to ask more specific questions to get the best answer. Overall, ChatBot is a great tool for learning to code."
   ]
  },
  {
   "cell_type": "markdown",
   "id": "992c6653",
   "metadata": {},
   "source": [
    "# 7\n",
    "7. Reflect on your experience interacting with ChatBot and describe how your perception of AI-driven assistance tools in the context of learning coding, statistics, and data science has been evolving (or not) since joining the course"
   ]
  },
  {
   "cell_type": "markdown",
   "id": "8b433036",
   "metadata": {},
   "source": [
    "Since starting to use chatgpt, I have found that AI tools like chatgpt are more helpful than I imagined. At first, I wasn't sure if they were useful, but they are good at explaining what is being coded. When I asked him how to modify my code, he gave me a quick answer. However, I still need to ask clear questions to get the best answers. Overall, I think these tools are helpful for learning."
   ]
  },
  {
   "cell_type": "markdown",
   "id": "10983aa6",
   "metadata": {},
   "source": [
    "# 8\n",
    "8. ChatBots consume text data available on the web or platforms, and thus represents a new way to \"search consensensus\" that condenses and summarizes mainstream human thought"
   ]
  },
  {
   "cell_type": "markdown",
   "id": "b9a92a13",
   "metadata": {},
   "source": [
    "8.1 With the emergence of new programming languages, tools, and methods, it is important to be able to quickly master new skills.\n",
    "\n",
    "Good communication skills are key. In data science, you not only have to crunch numbers, but also need to explain your findings to people who may not have a technical background. In the field of data science, you need good communication skills to make others understand what you mean.\n",
    "\n",
    "Coding is another essential skill. Being proficient in languages ​​such as Python or R allows you to work with data efficiently. Coding helps solve problems in the field of data science.\n",
    "\n",
    "Finally, a deep understanding of statistics and data analysis is essential. It can help you interpret complex data and draw meaningful conclusions. This skill is very important for making data-driven decisions, which can lead to better strategies."
   ]
  },
  {
   "cell_type": "markdown",
   "id": "f78110d3",
   "metadata": {},
   "source": [
    "8.2 ChatBot: It would be tough. Coding and data analysis are really important in both fields. You need them to work with data, build models, and find insights. Without these skills, it might be hard to do the main tasks of the job.\n",
    "\n",
    "3. Business Development\n",
    "Skills: Negotiation, communication, market research, strategic thinking.\n",
    "Business development specialists are responsible for identifying growth opportunities, building partnerships, and determining the direction of the company. It’s about connecting talent and ideas and understanding the market without having to delve into technical tasks.\n"
   ]
  },
  {
   "cell_type": "markdown",
   "id": "56f91a1f",
   "metadata": {},
   "source": [
    "8.3 ChatBot Session Summary:\n",
    "\n",
    "In this session, I asked the ChatBot if it’s possible to be a statistician or data scientist without knowing how to code or doing data analysis. The ChatBot explained that coding and data analysis are essential skills for both careers, as they involve working with data and building models.\n",
    "\n",
    "When I mentioned not enjoying coding or data analysis, the ChatBot suggested alternative career paths that don’t require these skills, such as project management, UX design, business development, marketing, and human resources. The ChatBot highlighted the relevant skills for each career and provided an overview of why these jobs could be a good fit if coding or data analysis isn't appealing.\n",
    "\n",
    "https://chatgpt.com/share/66ea5bdb-e9f4-8000-b77a-70e6cb1d0b83"
   ]
  },
  {
   "cell_type": "markdown",
   "id": "7f7d4774",
   "metadata": {},
   "source": [
    "8.4 From the conversation, I learned that coding and data analysis are important for statisticians and data scientists. But I am not very fond of these skills, so I am considering other careers that are more suitable for me. Business development may be more suitable for me because I like talking to people.\n",
    "In order to pursue a career in business development, I can start to develop skills such as negotiation, market research, and strategic thinking. These skills will be of great help to my future career choice"
   ]
  },
  {
   "cell_type": "markdown",
   "id": "1f8028be",
   "metadata": {},
   "source": [
    "ChatBot helped me get a basic understanding of the career I wanted and the skills required. This gave me some basic insights into the career. However, I felt that the information was a bit general and did not delve into the specific challenges or day-to-day tasks of a business development career.\n",
    "\n",
    "If I wanted more detailed and specific advice, my next step would be to talk to someone with actual business development experience. Perhaps a mentor or someone who is a professional in the field. This way, I would have a clearer understanding of what the job really involves and how to succeed in it."
   ]
  },
  {
   "cell_type": "markdown",
   "id": "731d23e0",
   "metadata": {},
   "source": [
    "# 9\n",
    "yes"
   ]
  }
 ],
 "metadata": {
  "kernelspec": {
   "display_name": "Python 3 (ipykernel)",
   "language": "python",
   "name": "python3"
  },
  "language_info": {
   "codemirror_mode": {
    "name": "ipython",
    "version": 3
   },
   "file_extension": ".py",
   "mimetype": "text/x-python",
   "name": "python",
   "nbconvert_exporter": "python",
   "pygments_lexer": "ipython3",
   "version": "3.11.6"
  }
 },
 "nbformat": 4,
 "nbformat_minor": 5
}
